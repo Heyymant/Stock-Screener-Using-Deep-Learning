{
 "cells": [
  {
   "cell_type": "code",
   "execution_count": 1,
   "metadata": {},
   "outputs": [],
   "source": [
    "#!pip install nsetools\n",
    "# %pip install beautifulsoup4\n"
   ]
  },
  {
   "cell_type": "code",
   "execution_count": 1,
   "metadata": {},
   "outputs": [],
   "source": [
    "import pandas as pd \n",
    "import numpy as np\n",
    "import yfinance as yf\n",
    "import matplotlib.pyplot as plt\n",
    "from bs4 import BeautifulSoup\n",
    "import requests\n",
    "from pprint import pprint"
   ]
  },
  {
   "cell_type": "code",
   "execution_count": 2,
   "metadata": {},
   "outputs": [],
   "source": [
    "class Stock:\n",
    "    def __init__(self , ticker,sector):\n",
    "        self.ticker = ticker\n",
    "        self.sector = sector\n",
    "        self.price = 0.0\n",
    "        # url to scrape the data from yahoo finance\n",
    "        self.url = f\"https://finance.yahoo.com/quote/{self.ticker}/key-statistics?p={self.ticker}\"\n",
    "        self.data = {}\n",
    "        \n",
    "        # all the metrics\n",
    "        self.metric_aliases = {\n",
    "            'Market Cap (intraday)': 'market_cap',\n",
    "            'Beta (5Y Monthly)': 'beta',\n",
    "            '52 Week High 3': '52_week_high',\n",
    "            '52 Week Low 3': '52_week_low',\n",
    "            '50-Day Moving Average 3': '50_day_ma',\n",
    "            '200-Day Moving Average 3': '200_day_ma',\n",
    "            'Avg Vol (3 month) 3': 'avg_vol_3m',\n",
    "            'Avg Vol (10 day) 3': 'avg_vol_10d',\n",
    "            'Shares Outstanding 5': 'shares_outstanding',\n",
    "            'Float 8': 'float',\n",
    "            '% Held by Insiders 1': 'held_by_insiders',\n",
    "            '% Held by Institutions 1': 'held_by_institutions',\n",
    "            'Short Ratio (Jan 30, 2023) 4': 'short_ratio',\n",
    "            'Payout Ratio 4': 'payout_ratio',\n",
    "            'Profit Margin': 'profit_margin',\n",
    "            'Operating Margin (ttm)': 'operating_margin',\n",
    "            'Return on Assets (ttm)': 'return_on_assets',\n",
    "            'Return on Equity (ttm)': 'return_on_equity',\n",
    "            'Revenue (ttm)': 'revenue',\n",
    "            'Revenue Per Share (ttm)': 'revenue_per_share',\n",
    "            'Gross Profit (ttm)': 'gross_profit',\n",
    "            'EBITDA ': 'ebitda',\n",
    "            'Net Income Avi to Common (ttm)': 'net_income',\n",
    "            'Diluted EPS (ttm)': 'eps',\n",
    "            'Total Cash (mrq)': 'total_cash',\n",
    "            'Total Cash Per Share (mrq)': 'cash_per_share',\n",
    "            'Total Debt (mrq)': 'total_debt',\n",
    "            'Total Debt/Equity (mrq)': 'debt_to_equity',\n",
    "            'Current Ratio (mrq)': 'current_ratio',\n",
    "            'Book Value Per Share (mrq)': 'book_value_per_share',\n",
    "            'Operating Cash Flow (ttm)': 'operating_cash_flow',\n",
    "            'Levered Free Cash Flow (ttm)': 'levered_free_cash_flow'\n",
    "        }\n",
    "    \n",
    "    \n",
    "    \n",
    "    \n",
    "    # function to scrape the data\n",
    "    def scrape_data(self):\n",
    "        page = requests.get(self.url ,  headers  = self.get_headers())\n",
    "        soup =  BeautifulSoup(page.content, 'html.parser')\n",
    "        \n",
    "        data = {}\n",
    "        sections = soup.find_all(\"section\" , {'data-test' : 'qsp-statistics'})\n",
    "        for section in sections:\n",
    "            rows = section.find_all('tr')\n",
    "            for row in rows:\n",
    "                cols = row.find_all('td')\n",
    "                if len(cols) == 2:\n",
    "                    metric =  cols[0].text.strip()\n",
    "                    if metric in self.metric_aliases:\n",
    "                        data[self.metric_aliases[metric]] = cols[1].text.strip()\n",
    "        \n",
    "        self.data = data\n",
    "    \n",
    "    \n",
    "    # get stock price\n",
    "    \n",
    "    def get_stock_price(self):\n",
    "        try :\n",
    "            url = f\"https://finance.yahoo.com/quote/{self.ticker}\"\n",
    "            response = requests.get(url, headers = self.get_headers())\n",
    "            soup = BeautifulSoup(response.content , 'html.parser')\n",
    "            data = soup.find('fin-streamer', {'data-symbol' : self.ticker})\n",
    "            price = float(data['value'])\n",
    "            self.price = price\n",
    "            print(f'Gathered price of {self.ticker}!!!!')\n",
    "        except:\n",
    "            print(f'Price not available for {self.ticker}')\n",
    "            self.price = 0.0\n",
    "    \n",
    "    def get_headers(self):\n",
    "        return {\"user-agent\": \"Mozilla/5.0 (Windows NT 10.0; Win64; x64) AppleWebKit/537.36 (KHTML, like Gecko) Chrome/81.0.4044.122 Safari/537.36\"}\n",
    "    "
   ]
  },
  {
   "cell_type": "code",
   "execution_count": null,
   "metadata": {},
   "outputs": [],
   "source": [
    "# symbol =  Stock('AAPL')\n",
    "# symbol.get_stock_price()\n",
    "# symbol.scrape_data()\n",
    "# pprint(symbol.data)\n",
    "# symbol.price\n"
   ]
  },
  {
   "cell_type": "code",
   "execution_count": 3,
   "metadata": {},
   "outputs": [],
   "source": [
    "# Stock Screener Class\n",
    "class StockScreener:\n",
    "    def __init__(self,stocks,filters):\n",
    "        self.stocks  = stocks\n",
    "        self.filters = filters\n",
    "    \n",
    "    # to add data to the respective class\n",
    "    def add_data(self):\n",
    "        for stock  in self.stocks:\n",
    "            stock.scrape_data()\n",
    "            stock.get_stock_price()\n",
    "            \n",
    "    # filtering out the stocks based on the filters\n",
    "    def apply_filters(self):\n",
    "        filtered_stock = []\n",
    "        for stock in self.stocks:\n",
    "            passed_all_filters = True\n",
    "            for filter_func in self.filters:\n",
    "                if not filter_func(stock):\n",
    "                    passed_all_filters = False\n",
    "                    break\n",
    "            if passed_all_filters:\n",
    "                filtered_stock.append(stock)\n",
    "        \n",
    "        return filtered_stock"
   ]
  },
  {
   "cell_type": "code",
   "execution_count": 4,
   "metadata": {},
   "outputs": [],
   "source": [
    "# filter to verify the sector\n",
    "def filter_sector(stock,sector):\n",
    "    return stock.sector == sector\n",
    "\n",
    "# filter to check price\n",
    "def filter_price(stock, min_price, max_price):\n",
    "    return min_price <= stock.price <= max_price\n",
    "\n",
    "# filter metric based on the yahoo string and given operator\n",
    "def filter_metric(stock, metric,operator,value):\n",
    "    if metric not in stock.data:\n",
    "        return False\n",
    "    \n",
    "    # converting the value to same unitsas metrics , if needed\n",
    "    if 'B' in stock.data[metric]:\n",
    "        stock.data[metric] = stock.data[metric].replace('B', '')\n",
    "        value = float(value)/1e9\n",
    "    elif 'M' in stock.data[metric]:\n",
    "        stock.data[metric] = stock.data[metric].replace('M', '')\n",
    "        value = float(value)/1e6\n",
    "    elif '%' in stock.data[metric]:\n",
    "        stock.data[metric] = stock.data[metric].replace('%', '')\n",
    "        value = float(value)\n",
    "    else:\n",
    "        value =float(value)\n",
    "        \n",
    "    # check condition according to operator\n",
    "    if operator == '>':\n",
    "        return float(stock.data[metric]) > value\n",
    "    elif operator == '>=':\n",
    "        return float(stock.data[metric]) >=value\n",
    "    elif operator == '<':\n",
    "        return float(stock.data[metric]) < value\n",
    "    elif operator == '<=':\n",
    "        return float(stock.data[metric]) <=value\n",
    "    elif operator == '==':\n",
    "        return float(stock.data[metric]) ==value"
   ]
  },
  {
   "cell_type": "code",
   "execution_count": 5,
   "metadata": {},
   "outputs": [],
   "source": [
    "# Get sp500 ticker and sector\n",
    "url = 'https://en.wikipedia.org/wiki/List_of_S%26P_500_companies'\n",
    "response = requests.get(url)\n",
    "soup = BeautifulSoup(response.content, 'html.parser')\n",
    "\n",
    "table = soup.find('table', {'class': 'wikitable sortable'})\n",
    "rows = table.find_all('tr')[1:]  # skip the header row\n",
    "\n",
    "sp500 = []\n",
    "\n",
    "for row in rows:\n",
    "    cells = row.find_all('td')\n",
    "    ticker = cells[0].text.strip()\n",
    "    company = cells[1].text.strip()\n",
    "    sector = cells[3].text.strip()\n",
    "    sp500.append({'ticker': ticker, 'company': company, 'sector': sector})\n",
    "\n",
    "def get_sp500_stocks():\n",
    "    sp500_stocks = [Stock(stock[\"ticker\"] , stock['sector']) for stock in sp500]\n",
    "    return sp500_stocks"
   ]
  },
  {
   "cell_type": "code",
   "execution_count": 8,
   "metadata": {},
   "outputs": [
    {
     "name": "stdout",
     "output_type": "stream",
     "text": [
      "Gathered price of GOOGL!!!!\n",
      "Gathered price of GOOG!!!!\n"
     ]
    }
   ],
   "source": [
    "# data = get_sp500_stocks()\n",
    "data = [Stock('GOOGL', 'Interactive Media & Services'), Stock('GOOG', 'Interactive Media & Services')]\n",
    "filters = [lambda stock: filter_sector(stock , 'Interactive Media & Services')]\n",
    "screener = StockScreener(data , filters)\n",
    "screener.add_data()"
   ]
  },
  {
   "cell_type": "code",
   "execution_count": 11,
   "metadata": {},
   "outputs": [
    {
     "name": "stdout",
     "output_type": "stream",
     "text": [
      "[<__main__.Stock object at 0x000001BD5C18F260>, <__main__.Stock object at 0x000001BD5C18F9B0>]\n"
     ]
    }
   ],
   "source": [
    "\n",
    "filtered_stocks = screener.apply_filters()\n",
    "print(filtered_stocks)"
   ]
  },
  {
   "cell_type": "code",
   "execution_count": null,
   "metadata": {},
   "outputs": [],
   "source": []
  }
 ],
 "metadata": {
  "kernelspec": {
   "display_name": ".venv",
   "language": "python",
   "name": "python3"
  },
  "language_info": {
   "codemirror_mode": {
    "name": "ipython",
    "version": 3
   },
   "file_extension": ".py",
   "mimetype": "text/x-python",
   "name": "python",
   "nbconvert_exporter": "python",
   "pygments_lexer": "ipython3",
   "version": "3.12.2"
  }
 },
 "nbformat": 4,
 "nbformat_minor": 2
}
